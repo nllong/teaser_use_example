{
 "cells": [
  {
   "cell_type": "code",
   "execution_count": 16,
   "metadata": {},
   "outputs": [
    {
     "name": "stdout",
     "output_type": "stream",
     "text": [
      "project output path: /Users/nlong/working/urban-analysis/teaser_usa/output/example\n"
     ]
    }
   ],
   "source": [
    "from teaser.project import Project\n",
    "import os\n",
    "from pathlib import Path\n",
    "\n",
    "# print version of TEASER\n",
    "# create an output directory\n",
    "output_dir = Path('.').parent / \"output\"\n",
    "if not output_dir.exists():\n",
    "    Path.mkdir(output_dir, parents=True, exist_ok=True)\n",
    "output_dir = output_dir.absolute()\n",
    "\n",
    "output_proj_dir = output_dir / \"example\"\n",
    "if not output_proj_dir.exists():\n",
    "    Path.mkdir(output_proj_dir, parents=True, exist_ok=True)\n",
    "\n",
    "curdir = os.getcwd()\n",
    "# set current dir to here\n",
    "\n",
    "print(f\"project output path: {output_proj_dir}\")\n"
   ]
  },
  {
   "cell_type": "code",
   "execution_count": 17,
   "metadata": {},
   "outputs": [
    {
     "name": "stdout",
     "output_type": "stream",
     "text": [
      "Exports can be found here:\n",
      "/Users/nlong/working/urban-analysis/teaser_usa/output/example/Project_1\n"
     ]
    },
    {
     "data": {
      "text/plain": [
       "'/Users/nlong/working/urban-analysis/teaser_usa/output/example/Project_1'"
      ]
     },
     "execution_count": 17,
     "metadata": {},
     "output_type": "execute_result"
    }
   ],
   "source": [
    "prj = Project()\n",
    "prj.name = \"Project_1\"\n",
    "prj.add_non_residential(\n",
    "    geometry_data=\"bmvbs_institute4\",\n",
    "    name=\"python_based_building\",\n",
    "    year_of_construction=2010,\n",
    "    number_of_floors=3,\n",
    "    height_of_floors=3.3,\n",
    "    net_leased_area=3.0,\n",
    "    office_layout=1,\n",
    "    window_layout=1,\n",
    "    with_ahu=False,\n",
    "    construction_data=\"iwu_heavy\",\n",
    ")\n",
    "\n",
    "prj.used_library_calc = \"IBPSA\"\n",
    "prj.number_of_elements_calc = 4\n",
    "prj.merge_windows_calc = False\n",
    "\n",
    "# calculate the properties of all the buildings (just one in this case)\n",
    "# and export to the Buildings library\n",
    "prj.calc_all_buildings()\n",
    "prj.export_ibpsa(library=\"Buildings\", path=output_proj_dir)\n"
   ]
  },
  {
   "cell_type": "code",
   "execution_count": 18,
   "metadata": {},
   "outputs": [
    {
     "name": "stdout",
     "output_type": "stream",
     "text": [
      "Exports can be found here:\n",
      "/Users/nlong/working/urban-analysis/teaser_usa/output/example/Project_2\n"
     ]
    },
    {
     "name": "stderr",
     "output_type": "stream",
     "text": [
      "/Users/nlong/.pyenv/versions/3.12.7-teaser/lib/python3.12/site-packages/teaser/data/input/teaserjson_input.py:69: UserWarning: TEASER version mismatch: JSON version 1.0.0 does not match current TEASER version 1.1.0\n",
      "  warnings.warn(\n",
      "/Users/nlong/.pyenv/versions/3.12.7-teaser/lib/python3.12/site-packages/teaser/logic/buildingobjects/calculation/four_element.py:660: UserWarning: For thermal zone TestRoom600 in building json_based_building, no ground floors have been defined.\n",
      "  warnings.warn(\n"
     ]
    },
    {
     "data": {
      "text/plain": [
       "'/Users/nlong/working/urban-analysis/teaser_usa/output/example/Project_2'"
      ]
     },
     "execution_count": 18,
     "metadata": {},
     "output_type": "execute_result"
    }
   ],
   "source": [
    "# read teaser file from the .json file\n",
    "prj2 = Project()\n",
    "prj2.load_project('./ASHRAE140_600.json')\n",
    "\n",
    "prj2.used_library_calc = \"IBPSA\"\n",
    "prj2.number_of_elements_calc = 4\n",
    "prj2.merge_windows_calc = False\n",
    "\n",
    "# calculate the properties of all the buildings (just one in this case)\n",
    "prj2.calc_all_buildings()\n",
    "prj2.export_ibpsa(library=\"Buildings\", path=output_proj_dir)"
   ]
  },
  {
   "cell_type": "code",
   "execution_count": null,
   "metadata": {},
   "outputs": [],
   "source": []
  }
 ],
 "metadata": {
  "kernelspec": {
   "display_name": "3.12.7-teaser",
   "language": "python",
   "name": "python3"
  },
  "language_info": {
   "codemirror_mode": {
    "name": "ipython",
    "version": 3
   },
   "file_extension": ".py",
   "mimetype": "text/x-python",
   "name": "python",
   "nbconvert_exporter": "python",
   "pygments_lexer": "ipython3",
   "version": "3.12.7"
  }
 },
 "nbformat": 4,
 "nbformat_minor": 2
}
